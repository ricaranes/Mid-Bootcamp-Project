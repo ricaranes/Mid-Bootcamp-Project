{
 "cells": [
  {
   "cell_type": "code",
   "execution_count": 1,
   "id": "eee4f494",
   "metadata": {},
   "outputs": [],
   "source": [
    "import pandas as pd\n",
    "import numpy as np\n",
    "import matplotlib.pyplot as plt\n",
    "import seaborn as sns\n",
    "import re\n",
    "from sklearn.preprocessing import Normalizer\n",
    "import statsmodels.api as sm\n",
    "from sklearn.metrics import r2_score\n",
    "from sklearn.model_selection import train_test_split\n",
    "from sklearn.preprocessing import OneHotEncoder\n",
    "from scipy import stats\n",
    "from scipy.stats import boxcox\n",
    "from imblearn.over_sampling import SMOTE\n",
    "from sklearn.preprocessing import StandardScaler"
   ]
  },
  {
   "cell_type": "code",
   "execution_count": 2,
   "id": "be200334",
   "metadata": {},
   "outputs": [],
   "source": [
    "citie_to_predict = pd.DataFrame(columns=['City', 'Rank', 'Sunshine hours(City)',\n",
    "       'Cost of a bottle of water(City)', 'Obesity levels(Country)',\n",
    "       'Life expectancy(years) (Country)', 'Pollution(Index score) (City)',\n",
    "       'Annual avg. hours worked',\n",
    "       'Outdoor activities(City)', 'Number of take out places(City)',\n",
    "       'Cost of a monthly gym membership(City)', 'Avg Age (city)',\n",
    "       'Population Size', 'PIB Per Capita', 'Life cost £(1 person) (city)',\n",
    "       'Avg AnnualPrecipitation (mm)', 'Avg Temperature',\n",
    "       'Infant mortality rate (IMR)', 'Avg beer price (£)'])"
   ]
  },
  {
   "cell_type": "code",
   "execution_count": 3,
   "id": "00ee1976",
   "metadata": {},
   "outputs": [
    {
     "data": {
      "text/html": [
       "<div>\n",
       "<style scoped>\n",
       "    .dataframe tbody tr th:only-of-type {\n",
       "        vertical-align: middle;\n",
       "    }\n",
       "\n",
       "    .dataframe tbody tr th {\n",
       "        vertical-align: top;\n",
       "    }\n",
       "\n",
       "    .dataframe thead th {\n",
       "        text-align: right;\n",
       "    }\n",
       "</style>\n",
       "<table border=\"1\" class=\"dataframe\">\n",
       "  <thead>\n",
       "    <tr style=\"text-align: right;\">\n",
       "      <th></th>\n",
       "      <th>City</th>\n",
       "      <th>Rank</th>\n",
       "      <th>Sunshine hours(City)</th>\n",
       "      <th>Cost of a bottle of water(City)</th>\n",
       "      <th>Obesity levels(Country)</th>\n",
       "      <th>Life expectancy(years) (Country)</th>\n",
       "      <th>Pollution(Index score) (City)</th>\n",
       "      <th>Annual avg. hours worked</th>\n",
       "      <th>Outdoor activities(City)</th>\n",
       "      <th>Number of take out places(City)</th>\n",
       "      <th>Cost of a monthly gym membership(City)</th>\n",
       "      <th>Avg Age (city)</th>\n",
       "      <th>Population Size</th>\n",
       "      <th>PIB Per Capita</th>\n",
       "      <th>Life cost £(1 person) (city)</th>\n",
       "      <th>Avg AnnualPrecipitation (mm)</th>\n",
       "      <th>Avg Temperature</th>\n",
       "      <th>Infant mortality rate (IMR)</th>\n",
       "      <th>Avg beer price (£)</th>\n",
       "    </tr>\n",
       "  </thead>\n",
       "  <tbody>\n",
       "  </tbody>\n",
       "</table>\n",
       "</div>"
      ],
      "text/plain": [
       "Empty DataFrame\n",
       "Columns: [City, Rank, Sunshine hours(City), Cost of a bottle of water(City), Obesity levels(Country), Life expectancy(years) (Country), Pollution(Index score) (City), Annual avg. hours worked, Outdoor activities(City), Number of take out places(City), Cost of a monthly gym membership(City), Avg Age (city), Population Size, PIB Per Capita, Life cost £(1 person) (city), Avg AnnualPrecipitation (mm), Avg Temperature, Infant mortality rate (IMR), Avg beer price (£)]\n",
       "Index: []"
      ]
     },
     "execution_count": 3,
     "metadata": {},
     "output_type": "execute_result"
    }
   ],
   "source": [
    "citie_to_predict"
   ]
  },
  {
   "cell_type": "code",
   "execution_count": 4,
   "id": "8fca139d",
   "metadata": {},
   "outputs": [],
   "source": [
    "porto_row = {'City': 'Porto', 'Rank': 1, 'Sunshine hours(City)': 2524, 'Cost of a bottle of water(City)': 0.99,\n",
    "       'Obesity levels(Country)': 24.5, 'Life expectancy(years) (Country)': 82.7,\n",
    "       'Pollution(Index score) (City)': 22.1, 'Annual avg. hours worked': 1768,\n",
    "       'Outdoor activities(City)': 101,\n",
    "       'Number of take out places(City)': 586,\n",
    "       'Cost of a monthly gym membership(City)': 49.69, 'Avg Age (city)': 42.7,\n",
    "       'Population Size': 214000 , 'PIB Per Capita': 24500, 'Life cost £(1 person) (city)': 1255,\n",
    "       'Avg AnnualPrecipitation (mm)': 1260, 'Avg Temperature': 15.5,\n",
    "       'Infant mortality rate (IMR)': 2.9, 'Avg beer price (£)': 2.00}"
   ]
  },
  {
   "cell_type": "code",
   "execution_count": 5,
   "id": "3a276d48",
   "metadata": {},
   "outputs": [
    {
     "name": "stderr",
     "output_type": "stream",
     "text": [
      "/var/folders/13/xty849950wj5f71_v7v6vysc0000gn/T/ipykernel_98751/1830047123.py:1: FutureWarning: The frame.append method is deprecated and will be removed from pandas in a future version. Use pandas.concat instead.\n",
      "  citie_to_predict = citie_to_predict.append(porto_row, ignore_index=True)\n"
     ]
    }
   ],
   "source": [
    "citie_to_predict = citie_to_predict.append(porto_row, ignore_index=True)"
   ]
  },
  {
   "cell_type": "code",
   "execution_count": 6,
   "id": "a8ba1695",
   "metadata": {},
   "outputs": [
    {
     "data": {
      "text/html": [
       "<div>\n",
       "<style scoped>\n",
       "    .dataframe tbody tr th:only-of-type {\n",
       "        vertical-align: middle;\n",
       "    }\n",
       "\n",
       "    .dataframe tbody tr th {\n",
       "        vertical-align: top;\n",
       "    }\n",
       "\n",
       "    .dataframe thead th {\n",
       "        text-align: right;\n",
       "    }\n",
       "</style>\n",
       "<table border=\"1\" class=\"dataframe\">\n",
       "  <thead>\n",
       "    <tr style=\"text-align: right;\">\n",
       "      <th></th>\n",
       "      <th>City</th>\n",
       "      <th>Rank</th>\n",
       "      <th>Sunshine hours(City)</th>\n",
       "      <th>Cost of a bottle of water(City)</th>\n",
       "      <th>Obesity levels(Country)</th>\n",
       "      <th>Life expectancy(years) (Country)</th>\n",
       "      <th>Pollution(Index score) (City)</th>\n",
       "      <th>Annual avg. hours worked</th>\n",
       "      <th>Outdoor activities(City)</th>\n",
       "      <th>Number of take out places(City)</th>\n",
       "      <th>Cost of a monthly gym membership(City)</th>\n",
       "      <th>Avg Age (city)</th>\n",
       "      <th>Population Size</th>\n",
       "      <th>PIB Per Capita</th>\n",
       "      <th>Life cost £(1 person) (city)</th>\n",
       "      <th>Avg AnnualPrecipitation (mm)</th>\n",
       "      <th>Avg Temperature</th>\n",
       "      <th>Infant mortality rate (IMR)</th>\n",
       "      <th>Avg beer price (£)</th>\n",
       "    </tr>\n",
       "  </thead>\n",
       "  <tbody>\n",
       "    <tr>\n",
       "      <th>0</th>\n",
       "      <td>Porto</td>\n",
       "      <td>1</td>\n",
       "      <td>2524</td>\n",
       "      <td>0.99</td>\n",
       "      <td>24.5</td>\n",
       "      <td>82.7</td>\n",
       "      <td>22.1</td>\n",
       "      <td>1768</td>\n",
       "      <td>101</td>\n",
       "      <td>586</td>\n",
       "      <td>49.69</td>\n",
       "      <td>42.7</td>\n",
       "      <td>214000</td>\n",
       "      <td>24500</td>\n",
       "      <td>1255</td>\n",
       "      <td>1260</td>\n",
       "      <td>15.5</td>\n",
       "      <td>2.9</td>\n",
       "      <td>2.0</td>\n",
       "    </tr>\n",
       "  </tbody>\n",
       "</table>\n",
       "</div>"
      ],
      "text/plain": [
       "    City Rank Sunshine hours(City)  Cost of a bottle of water(City)  \\\n",
       "0  Porto    1                 2524                             0.99   \n",
       "\n",
       "   Obesity levels(Country)  Life expectancy(years) (Country)  \\\n",
       "0                     24.5                              82.7   \n",
       "\n",
       "   Pollution(Index score) (City) Annual avg. hours worked  \\\n",
       "0                           22.1                     1768   \n",
       "\n",
       "  Outdoor activities(City) Number of take out places(City)  \\\n",
       "0                      101                             586   \n",
       "\n",
       "   Cost of a monthly gym membership(City)  Avg Age (city) Population Size  \\\n",
       "0                                   49.69            42.7          214000   \n",
       "\n",
       "  PIB Per Capita Life cost £(1 person) (city) Avg AnnualPrecipitation (mm)  \\\n",
       "0          24500                         1255                         1260   \n",
       "\n",
       "   Avg Temperature  Infant mortality rate (IMR)  Avg beer price (£)  \n",
       "0             15.5                          2.9                 2.0  "
      ]
     },
     "execution_count": 6,
     "metadata": {},
     "output_type": "execute_result"
    }
   ],
   "source": [
    "citie_to_predict"
   ]
  },
  {
   "cell_type": "code",
   "execution_count": 7,
   "id": "5c83cb4c",
   "metadata": {},
   "outputs": [],
   "source": [
    "Bragança_row = {'City': 'Bragança', 'Rank': 2, 'Sunshine hours(City)': 2354, 'Cost of a bottle of water(City)': 0.60,\n",
    "       'Obesity levels(Country)': 24.5, 'Life expectancy(years) (Country)': 82.7,\n",
    "       'Pollution(Index score) (City)': 9.3, 'Annual avg. hours worked': 1768,\n",
    "       'Outdoor activities(City)': '-',\n",
    "       'Number of take out places(City)': 45,\n",
    "       'Cost of a monthly gym membership(City)': 28.50, 'Avg Age (city)': 44.0,\n",
    "       'Population Size': 34000 , 'PIB Per Capita': 18490, 'Life cost £(1 person) (city)': 732,\n",
    "       'Avg AnnualPrecipitation (mm)': 1218, 'Avg Temperature': 13.3,\n",
    "       'Infant mortality rate (IMR)': 2.9, 'Avg beer price (£)': 1.00}"
   ]
  },
  {
   "cell_type": "code",
   "execution_count": 8,
   "id": "dd0a3967",
   "metadata": {
    "scrolled": true
   },
   "outputs": [
    {
     "name": "stderr",
     "output_type": "stream",
     "text": [
      "/var/folders/13/xty849950wj5f71_v7v6vysc0000gn/T/ipykernel_98751/2176783024.py:1: FutureWarning: The frame.append method is deprecated and will be removed from pandas in a future version. Use pandas.concat instead.\n",
      "  citie_to_predict = citie_to_predict.append(Bragança_row, ignore_index=True)\n"
     ]
    }
   ],
   "source": [
    "citie_to_predict = citie_to_predict.append(Bragança_row, ignore_index=True)"
   ]
  },
  {
   "cell_type": "code",
   "execution_count": 9,
   "id": "ab347c5b",
   "metadata": {},
   "outputs": [],
   "source": [
    "citie_to_predict = citie_to_predict.rename(columns={'Cost of a bottle of water(City)': 'Cost of a bottle of water(City)(£)'})\n",
    "citie_to_predict = citie_to_predict.rename(columns={'Cost of a monthly gym membership(City)': 'Cost of a monthly gym membership(City)(£)'})\n",
    "citie_to_predict = citie_to_predict.rename(columns={'Pollution(Index score) (City)': 'Pollution(Index score %) (City)'})"
   ]
  },
  {
   "cell_type": "code",
   "execution_count": 10,
   "id": "a99b9012",
   "metadata": {
    "scrolled": false
   },
   "outputs": [
    {
     "data": {
      "text/html": [
       "<div>\n",
       "<style scoped>\n",
       "    .dataframe tbody tr th:only-of-type {\n",
       "        vertical-align: middle;\n",
       "    }\n",
       "\n",
       "    .dataframe tbody tr th {\n",
       "        vertical-align: top;\n",
       "    }\n",
       "\n",
       "    .dataframe thead th {\n",
       "        text-align: right;\n",
       "    }\n",
       "</style>\n",
       "<table border=\"1\" class=\"dataframe\">\n",
       "  <thead>\n",
       "    <tr style=\"text-align: right;\">\n",
       "      <th></th>\n",
       "      <th>City</th>\n",
       "      <th>Rank</th>\n",
       "      <th>Sunshine hours(City)</th>\n",
       "      <th>Cost of a bottle of water(City)(£)</th>\n",
       "      <th>Obesity levels(Country)</th>\n",
       "      <th>Life expectancy(years) (Country)</th>\n",
       "      <th>Pollution(Index score %) (City)</th>\n",
       "      <th>Annual avg. hours worked</th>\n",
       "      <th>Outdoor activities(City)</th>\n",
       "      <th>Number of take out places(City)</th>\n",
       "      <th>Cost of a monthly gym membership(City)(£)</th>\n",
       "      <th>Avg Age (city)</th>\n",
       "      <th>Population Size</th>\n",
       "      <th>PIB Per Capita</th>\n",
       "      <th>Life cost £(1 person) (city)</th>\n",
       "      <th>Avg AnnualPrecipitation (mm)</th>\n",
       "      <th>Avg Temperature</th>\n",
       "      <th>Infant mortality rate (IMR)</th>\n",
       "      <th>Avg beer price (£)</th>\n",
       "    </tr>\n",
       "  </thead>\n",
       "  <tbody>\n",
       "    <tr>\n",
       "      <th>0</th>\n",
       "      <td>Porto</td>\n",
       "      <td>1</td>\n",
       "      <td>2524</td>\n",
       "      <td>0.99</td>\n",
       "      <td>24.5</td>\n",
       "      <td>82.7</td>\n",
       "      <td>22.1</td>\n",
       "      <td>1768</td>\n",
       "      <td>101</td>\n",
       "      <td>586</td>\n",
       "      <td>49.69</td>\n",
       "      <td>42.7</td>\n",
       "      <td>214000</td>\n",
       "      <td>24500</td>\n",
       "      <td>1255</td>\n",
       "      <td>1260</td>\n",
       "      <td>15.5</td>\n",
       "      <td>2.9</td>\n",
       "      <td>2.0</td>\n",
       "    </tr>\n",
       "    <tr>\n",
       "      <th>1</th>\n",
       "      <td>Bragança</td>\n",
       "      <td>2</td>\n",
       "      <td>2354</td>\n",
       "      <td>0.60</td>\n",
       "      <td>24.5</td>\n",
       "      <td>82.7</td>\n",
       "      <td>9.3</td>\n",
       "      <td>1768</td>\n",
       "      <td>-</td>\n",
       "      <td>45</td>\n",
       "      <td>28.50</td>\n",
       "      <td>44.0</td>\n",
       "      <td>34000</td>\n",
       "      <td>18490</td>\n",
       "      <td>732</td>\n",
       "      <td>1218</td>\n",
       "      <td>13.3</td>\n",
       "      <td>2.9</td>\n",
       "      <td>1.0</td>\n",
       "    </tr>\n",
       "  </tbody>\n",
       "</table>\n",
       "</div>"
      ],
      "text/plain": [
       "       City Rank Sunshine hours(City)  Cost of a bottle of water(City)(£)  \\\n",
       "0     Porto    1                 2524                                0.99   \n",
       "1  Bragança    2                 2354                                0.60   \n",
       "\n",
       "   Obesity levels(Country)  Life expectancy(years) (Country)  \\\n",
       "0                     24.5                              82.7   \n",
       "1                     24.5                              82.7   \n",
       "\n",
       "   Pollution(Index score %) (City) Annual avg. hours worked  \\\n",
       "0                             22.1                     1768   \n",
       "1                              9.3                     1768   \n",
       "\n",
       "  Outdoor activities(City) Number of take out places(City)  \\\n",
       "0                      101                             586   \n",
       "1                        -                              45   \n",
       "\n",
       "   Cost of a monthly gym membership(City)(£)  Avg Age (city) Population Size  \\\n",
       "0                                      49.69            42.7          214000   \n",
       "1                                      28.50            44.0           34000   \n",
       "\n",
       "  PIB Per Capita Life cost £(1 person) (city) Avg AnnualPrecipitation (mm)  \\\n",
       "0          24500                         1255                         1260   \n",
       "1          18490                          732                         1218   \n",
       "\n",
       "   Avg Temperature  Infant mortality rate (IMR)  Avg beer price (£)  \n",
       "0             15.5                          2.9                 2.0  \n",
       "1             13.3                          2.9                 1.0  "
      ]
     },
     "execution_count": 10,
     "metadata": {},
     "output_type": "execute_result"
    }
   ],
   "source": [
    "citie_to_predict"
   ]
  },
  {
   "cell_type": "code",
   "execution_count": 11,
   "id": "2d5bb8b8",
   "metadata": {
    "scrolled": true
   },
   "outputs": [
    {
     "data": {
      "text/plain": [
       "City                                          object\n",
       "Rank                                          object\n",
       "Sunshine hours(City)                          object\n",
       "Cost of a bottle of water(City)(£)           float64\n",
       "Obesity levels(Country)                      float64\n",
       "Life expectancy(years) (Country)             float64\n",
       "Pollution(Index score %) (City)              float64\n",
       "Annual avg. hours worked                      object\n",
       "Outdoor activities(City)                      object\n",
       "Number of take out places(City)               object\n",
       "Cost of a monthly gym membership(City)(£)    float64\n",
       "Avg Age (city)                               float64\n",
       "Population Size                               object\n",
       "PIB Per Capita                                object\n",
       "Life cost £(1 person) (city)                  object\n",
       "Avg AnnualPrecipitation (mm)                  object\n",
       "Avg Temperature                              float64\n",
       "Infant mortality rate (IMR)                  float64\n",
       "Avg beer price (£)                           float64\n",
       "dtype: object"
      ]
     },
     "execution_count": 11,
     "metadata": {},
     "output_type": "execute_result"
    }
   ],
   "source": [
    "citie_to_predict.dtypes"
   ]
  },
  {
   "cell_type": "code",
   "execution_count": 12,
   "id": "6a56498f",
   "metadata": {},
   "outputs": [],
   "source": [
    "citie_to_predict['Sunshine hours(City)'] = pd.to_numeric(citie_to_predict['Sunshine hours(City)'], errors='coerce')\n",
    "citie_to_predict['Annual avg. hours worked'] = pd.to_numeric(citie_to_predict['Annual avg. hours worked'], errors='coerce')\n",
    "citie_to_predict['Population Size'] = pd.to_numeric(citie_to_predict['Population Size'], errors='coerce')\n",
    "citie_to_predict['Number of take out places(City)'] = pd.to_numeric(citie_to_predict['Number of take out places(City)'], errors='coerce')\n",
    "citie_to_predict['Outdoor activities(City)'] = pd.to_numeric(citie_to_predict['Outdoor activities(City)'], errors='coerce')"
   ]
  },
  {
   "cell_type": "code",
   "execution_count": 13,
   "id": "f9d13883",
   "metadata": {
    "scrolled": true
   },
   "outputs": [
    {
     "data": {
      "text/plain": [
       "City                                          object\n",
       "Rank                                          object\n",
       "Sunshine hours(City)                           int64\n",
       "Cost of a bottle of water(City)(£)           float64\n",
       "Obesity levels(Country)                      float64\n",
       "Life expectancy(years) (Country)             float64\n",
       "Pollution(Index score %) (City)              float64\n",
       "Annual avg. hours worked                       int64\n",
       "Outdoor activities(City)                     float64\n",
       "Number of take out places(City)                int64\n",
       "Cost of a monthly gym membership(City)(£)    float64\n",
       "Avg Age (city)                               float64\n",
       "Population Size                                int64\n",
       "PIB Per Capita                                object\n",
       "Life cost £(1 person) (city)                  object\n",
       "Avg AnnualPrecipitation (mm)                  object\n",
       "Avg Temperature                              float64\n",
       "Infant mortality rate (IMR)                  float64\n",
       "Avg beer price (£)                           float64\n",
       "dtype: object"
      ]
     },
     "execution_count": 13,
     "metadata": {},
     "output_type": "execute_result"
    }
   ],
   "source": [
    "citie_to_predict.dtypes"
   ]
  },
  {
   "cell_type": "code",
   "execution_count": 14,
   "id": "2ef3fccb",
   "metadata": {
    "scrolled": true
   },
   "outputs": [
    {
     "data": {
      "text/plain": [
       "City                                         0\n",
       "Rank                                         0\n",
       "Sunshine hours(City)                         0\n",
       "Cost of a bottle of water(City)(£)           0\n",
       "Obesity levels(Country)                      0\n",
       "Life expectancy(years) (Country)             0\n",
       "Pollution(Index score %) (City)              0\n",
       "Annual avg. hours worked                     0\n",
       "Outdoor activities(City)                     1\n",
       "Number of take out places(City)              0\n",
       "Cost of a monthly gym membership(City)(£)    0\n",
       "Avg Age (city)                               0\n",
       "Population Size                              0\n",
       "PIB Per Capita                               0\n",
       "Life cost £(1 person) (city)                 0\n",
       "Avg AnnualPrecipitation (mm)                 0\n",
       "Avg Temperature                              0\n",
       "Infant mortality rate (IMR)                  0\n",
       "Avg beer price (£)                           0\n",
       "dtype: int64"
      ]
     },
     "execution_count": 14,
     "metadata": {},
     "output_type": "execute_result"
    }
   ],
   "source": [
    "citie_to_predict.isna().sum()"
   ]
  },
  {
   "cell_type": "code",
   "execution_count": 15,
   "id": "5bd5e8b8",
   "metadata": {},
   "outputs": [],
   "source": [
    "avg_outdoor = citie_to_predict['Outdoor activities(City)'].mean()\n",
    "citie_to_predict['Outdoor activities(City)'].fillna(avg_outdoor, inplace=True)"
   ]
  },
  {
   "cell_type": "code",
   "execution_count": 16,
   "id": "4ecd3ce6",
   "metadata": {},
   "outputs": [
    {
     "data": {
      "text/html": [
       "<div>\n",
       "<style scoped>\n",
       "    .dataframe tbody tr th:only-of-type {\n",
       "        vertical-align: middle;\n",
       "    }\n",
       "\n",
       "    .dataframe tbody tr th {\n",
       "        vertical-align: top;\n",
       "    }\n",
       "\n",
       "    .dataframe thead th {\n",
       "        text-align: right;\n",
       "    }\n",
       "</style>\n",
       "<table border=\"1\" class=\"dataframe\">\n",
       "  <thead>\n",
       "    <tr style=\"text-align: right;\">\n",
       "      <th></th>\n",
       "      <th>City</th>\n",
       "      <th>Rank</th>\n",
       "      <th>Sunshine hours(City)</th>\n",
       "      <th>Cost of a bottle of water(City)(£)</th>\n",
       "      <th>Obesity levels(Country)</th>\n",
       "      <th>Life expectancy(years) (Country)</th>\n",
       "      <th>Pollution(Index score %) (City)</th>\n",
       "      <th>Annual avg. hours worked</th>\n",
       "      <th>Outdoor activities(City)</th>\n",
       "      <th>Number of take out places(City)</th>\n",
       "      <th>Cost of a monthly gym membership(City)(£)</th>\n",
       "      <th>Avg Age (city)</th>\n",
       "      <th>Population Size</th>\n",
       "      <th>PIB Per Capita</th>\n",
       "      <th>Life cost £(1 person) (city)</th>\n",
       "      <th>Avg AnnualPrecipitation (mm)</th>\n",
       "      <th>Avg Temperature</th>\n",
       "      <th>Infant mortality rate (IMR)</th>\n",
       "      <th>Avg beer price (£)</th>\n",
       "    </tr>\n",
       "  </thead>\n",
       "  <tbody>\n",
       "    <tr>\n",
       "      <th>0</th>\n",
       "      <td>Porto</td>\n",
       "      <td>1</td>\n",
       "      <td>2524</td>\n",
       "      <td>0.99</td>\n",
       "      <td>24.5</td>\n",
       "      <td>82.7</td>\n",
       "      <td>22.1</td>\n",
       "      <td>1768</td>\n",
       "      <td>101.0</td>\n",
       "      <td>586</td>\n",
       "      <td>49.69</td>\n",
       "      <td>42.7</td>\n",
       "      <td>214000</td>\n",
       "      <td>24500</td>\n",
       "      <td>1255</td>\n",
       "      <td>1260</td>\n",
       "      <td>15.5</td>\n",
       "      <td>2.9</td>\n",
       "      <td>2.0</td>\n",
       "    </tr>\n",
       "    <tr>\n",
       "      <th>1</th>\n",
       "      <td>Bragança</td>\n",
       "      <td>2</td>\n",
       "      <td>2354</td>\n",
       "      <td>0.60</td>\n",
       "      <td>24.5</td>\n",
       "      <td>82.7</td>\n",
       "      <td>9.3</td>\n",
       "      <td>1768</td>\n",
       "      <td>101.0</td>\n",
       "      <td>45</td>\n",
       "      <td>28.50</td>\n",
       "      <td>44.0</td>\n",
       "      <td>34000</td>\n",
       "      <td>18490</td>\n",
       "      <td>732</td>\n",
       "      <td>1218</td>\n",
       "      <td>13.3</td>\n",
       "      <td>2.9</td>\n",
       "      <td>1.0</td>\n",
       "    </tr>\n",
       "  </tbody>\n",
       "</table>\n",
       "</div>"
      ],
      "text/plain": [
       "       City Rank  Sunshine hours(City)  Cost of a bottle of water(City)(£)  \\\n",
       "0     Porto    1                  2524                                0.99   \n",
       "1  Bragança    2                  2354                                0.60   \n",
       "\n",
       "   Obesity levels(Country)  Life expectancy(years) (Country)  \\\n",
       "0                     24.5                              82.7   \n",
       "1                     24.5                              82.7   \n",
       "\n",
       "   Pollution(Index score %) (City)  Annual avg. hours worked  \\\n",
       "0                             22.1                      1768   \n",
       "1                              9.3                      1768   \n",
       "\n",
       "   Outdoor activities(City)  Number of take out places(City)  \\\n",
       "0                     101.0                              586   \n",
       "1                     101.0                               45   \n",
       "\n",
       "   Cost of a monthly gym membership(City)(£)  Avg Age (city)  Population Size  \\\n",
       "0                                      49.69            42.7           214000   \n",
       "1                                      28.50            44.0            34000   \n",
       "\n",
       "  PIB Per Capita Life cost £(1 person) (city) Avg AnnualPrecipitation (mm)  \\\n",
       "0          24500                         1255                         1260   \n",
       "1          18490                          732                         1218   \n",
       "\n",
       "   Avg Temperature  Infant mortality rate (IMR)  Avg beer price (£)  \n",
       "0             15.5                          2.9                 2.0  \n",
       "1             13.3                          2.9                 1.0  "
      ]
     },
     "execution_count": 16,
     "metadata": {},
     "output_type": "execute_result"
    }
   ],
   "source": [
    "citie_to_predict"
   ]
  },
  {
   "cell_type": "code",
   "execution_count": 17,
   "id": "3fd7d18c",
   "metadata": {},
   "outputs": [],
   "source": [
    "citie_to_predict.to_csv('cities_to_predict.csv')"
   ]
  },
  {
   "cell_type": "code",
   "execution_count": null,
   "id": "dc90f33a",
   "metadata": {},
   "outputs": [],
   "source": []
  },
  {
   "cell_type": "code",
   "execution_count": null,
   "id": "bf2858b5",
   "metadata": {},
   "outputs": [],
   "source": []
  }
 ],
 "metadata": {
  "kernelspec": {
   "display_name": "Python 3 (ipykernel)",
   "language": "python",
   "name": "python3"
  },
  "language_info": {
   "codemirror_mode": {
    "name": "ipython",
    "version": 3
   },
   "file_extension": ".py",
   "mimetype": "text/x-python",
   "name": "python",
   "nbconvert_exporter": "python",
   "pygments_lexer": "ipython3",
   "version": "3.9.13"
  }
 },
 "nbformat": 4,
 "nbformat_minor": 5
}
